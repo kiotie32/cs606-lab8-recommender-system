{
 "cells": [
  {
   "cell_type": "code",
   "execution_count": 2,
   "metadata": {
    "collapsed": true,
    "pycharm": {
     "is_executing": false
    }
   },
   "outputs": [],
   "source": [
    "%matplotlib inline\n",
    "import numpy as np\n",
    "from scipy import spatial\n",
    "import pickle"
   ]
  },
  {
   "cell_type": "markdown",
   "metadata": {},
   "source": [
    "Load the ratings matrix R"
   ]
  },
  {
   "cell_type": "code",
   "execution_count": 3,
   "metadata": {
    "collapsed": true,
    "pycharm": {
     "is_executing": false
    }
   },
   "outputs": [],
   "source": [
    "def loadRatings():\n",
    "    ratings = []\n",
    "    with open('C:\\Users\\Bipin Kumar Mishr\\tapas data\\IIITG Lab assignments\\DATA ANALYTICS\\cs606-lab8\\cs606-lab8-reccomenders-tapasm2027-master\\recolab-data-master\\collaborative', 'r') as f:\n",
    "        for line in f:\n",
    "            line = list(map(int, line.strip().split()))\n",
    "            ratings.append(line)\n",
    "    return ratings"
   ]
  },
  {
   "cell_type": "markdown",
   "metadata": {},
   "source": [
    "Compute the matrices P"
   ]
  },
  {
   "cell_type": "code",
   "execution_count": 4,
   "metadata": {
    "collapsed": true,
    "pycharm": {
     "is_executing": false
    }
   },
   "outputs": [],
   "source": [
    "def calcP(R):\n",
    "    m, _ = R.shape\n",
    "    P = np.zeros([m, m])\n",
    "    for i in range(m):\n",
    "        P[i, i] = np.sum(R[i])\n",
    "    return P"
   ]
  },
  {
   "cell_type": "markdown",
   "metadata": {},
   "source": [
    "Compute the matrices Q"
   ]
  },
  {
   "cell_type": "code",
   "execution_count": 5,
   "metadata": {
    "collapsed": true,
    "pycharm": {
     "is_executing": false
    }
   },
   "outputs": [],
   "source": [
    "def calcQ(R):\n",
    "    _, n = R.shape\n",
    "    Q = np.zeros([n, n])\n",
    "    for i in range(n):\n",
    "        Q[i, i] = np.sum(R[:, i])\n",
    "    return Q"
   ]
  },
  {
   "cell_type": "markdown",
   "metadata": {},
   "source": [
    "Load Alex"
   ]
  },
  {
   "cell_type": "code",
   "execution_count": 6,
   "metadata": {
    "collapsed": true,
    "pycharm": {
     "is_executing": false
    }
   },
   "outputs": [],
   "source": [
    "def loadAlex():\n",
    "    with open('C:/Users/samee/PycharmProjects/cs606-lab8-reccomenders-SameeranBorah/recolab-data/collaborative/orig.txt', 'r') as f:\n",
    "        alex = list(map(int, f.readline().strip().split()))\n",
    "    return np.array(alex)"
   ]
  },
  {
   "cell_type": "code",
   "execution_count": 11,
   "metadata": {
    "collapsed": true,
    "pycharm": {
     "is_executing": false
    }
   },
   "outputs": [],
   "source": [
    "def recommend():\n",
    "    print(\"load ratings\")\n",
    "    R = np.matrix(loadRatings())\n",
    "    m, n = R.shape\n",
    "    print(\"calc P\")\n",
    "    P = calcP(R)\n",
    "    print (\"calc Q\")\n",
    "    Q = calcQ(R)\n",
    "\n",
    "    Ps = P\n",
    "    for i in range(m):\n",
    "        Ps[i, i] = np.sqrt(1.0 / P[i, i])\n",
    "    Qs = Q\n",
    "    for i in range(n):\n",
    "        Qs[i, i] = np.sqrt(1.0 / Q[i, i])\n",
    "\n",
    "    print(\"Compute gamma for the user-user collaborative filtering\")\n",
    "    Guu = Ps * R * R.T * Ps * R\n",
    "    U= (np.array(Guu[499, :100]).flatten().argsort()[::-1])\n",
    "    for i in U:\n",
    "        print(i)\n",
    "\n",
    "    print (\"Compute gamma for the item-item collaborative filtering\")\n",
    "    Gii = R * Qs * R.T * R * Qs\n",
    "    I= (np.array(Gii[499, :100]).flatten().argsort()[::-1])\n",
    "    for j in I:\n",
    "        print(j)"
   ]
  },
  {
   "cell_type": "code",
   "execution_count": 8,
   "metadata": {
    "collapsed": true,
    "pycharm": {
     "is_executing": false
    }
   },
   "outputs": [],
   "source": [
    "def plot(uu, ii, alex):\n",
    "    uuplot = []\n",
    "    for i in range(19):\n",
    "        cnt = 0\n",
    "        for s in uu[:(i+1)]:\n",
    "            if alex[s] == 1:\n",
    "                cnt += 1\n",
    "        uuplot.append(float(cnt) / (i + 1))\n",
    "    print(uuplot)\n",
    "    iiplot = []\n",
    "    for i in range(19):\n",
    "        cnt = 0\n",
    "        for s in ii[:(i+1)]:\n",
    "            if alex[s] == 1:\n",
    "                cnt += 1\n",
    "        iiplot.append(float(cnt) / (i + 1))\n",
    "    print (iiplot)\n",
    "\n",
    "    import matplotlib.pyplot as plt\n",
    "    plt.plot(range(1, 20), uuplot, 'bs-', range(1, 20), iiplot, 'r^-')\n",
    "    plt.xlabel('K')\n",
    "    plt.ylabel('Precision')\n",
    "    plt.grid(True)\n",
    "    plt.legend(('User-user', 'Item-item'))"
   ]
  },
  {
   "cell_type": "code",
   "execution_count": 13,
   "metadata": {
    "pycharm": {
     "is_executing": false
    }
   },
   "outputs": [
    {
     "name": "stdout",
     "output_type": "stream",
     "text": [
      "load ratings\n",
      "calc P\n",
      "calc Q\n",
      "Compute gamma for the user-user collaborative filtering\n",
      "96\n",
      "74\n",
      "45\n",
      "60\n",
      "9\n",
      "68\n",
      "82\n",
      "5\n",
      "72\n",
      "62\n",
      "64\n",
      "59\n",
      "20\n",
      "90\n",
      "97\n",
      "35\n",
      "46\n",
      "76\n",
      "65\n",
      "25\n",
      "11\n",
      "1\n",
      "2\n",
      "43\n",
      "99\n",
      "13\n",
      "15\n",
      "88\n",
      "67\n",
      "10\n",
      "73\n",
      "19\n",
      "17\n",
      "36\n",
      "81\n",
      "14\n",
      "44\n",
      "98\n",
      "40\n",
      "55\n",
      "8\n",
      "87\n",
      "56\n",
      "34\n",
      "86\n",
      "54\n",
      "71\n",
      "58\n",
      "63\n",
      "91\n",
      "41\n",
      "38\n",
      "48\n",
      "16\n",
      "31\n",
      "29\n",
      "57\n",
      "22\n",
      "21\n",
      "85\n",
      "93\n",
      "89\n",
      "69\n",
      "28\n",
      "27\n",
      "4\n",
      "66\n",
      "70\n",
      "83\n",
      "32\n",
      "77\n",
      "6\n",
      "53\n",
      "23\n",
      "12\n",
      "84\n",
      "0\n",
      "3\n",
      "26\n",
      "52\n",
      "78\n",
      "51\n",
      "94\n",
      "42\n",
      "50\n",
      "39\n",
      "95\n",
      "37\n",
      "79\n",
      "24\n",
      "92\n",
      "49\n",
      "33\n",
      "75\n",
      "7\n",
      "30\n",
      "18\n",
      "61\n",
      "80\n",
      "47\n",
      "Compute gamma for the item-item collaborative filtering\n",
      "96\n",
      "74\n",
      "60\n",
      "45\n",
      "82\n",
      "9\n",
      "68\n",
      "5\n",
      "72\n",
      "20\n",
      "62\n",
      "59\n",
      "64\n",
      "90\n",
      "97\n",
      "35\n",
      "25\n",
      "65\n",
      "76\n",
      "2\n",
      "1\n",
      "99\n",
      "43\n",
      "46\n",
      "11\n",
      "15\n",
      "88\n",
      "17\n",
      "73\n",
      "67\n",
      "13\n",
      "98\n",
      "55\n",
      "10\n",
      "63\n",
      "87\n",
      "14\n",
      "19\n",
      "86\n",
      "44\n",
      "56\n",
      "81\n",
      "48\n",
      "40\n",
      "36\n",
      "71\n",
      "34\n",
      "8\n",
      "31\n",
      "91\n",
      "38\n",
      "58\n",
      "22\n",
      "16\n",
      "41\n",
      "54\n",
      "69\n",
      "66\n",
      "85\n",
      "70\n",
      "21\n",
      "93\n",
      "57\n",
      "29\n",
      "27\n",
      "4\n",
      "28\n",
      "77\n",
      "89\n",
      "83\n",
      "53\n",
      "39\n",
      "84\n",
      "0\n",
      "12\n",
      "32\n",
      "6\n",
      "78\n",
      "23\n",
      "42\n",
      "37\n",
      "3\n",
      "52\n",
      "26\n",
      "94\n",
      "79\n",
      "51\n",
      "75\n",
      "95\n",
      "49\n",
      "24\n",
      "33\n",
      "92\n",
      "50\n",
      "7\n",
      "30\n",
      "18\n",
      "61\n",
      "80\n",
      "47\n"
     ]
    }
   ],
   "source": [
    "if __name__ == '__main__':\n",
    "    recommend()\n",
    "    "
   ]
  },
  {
   "cell_type": "code",
   "execution_count": 14,
   "metadata": {
    "collapsed": true,
    "pycharm": {
     "is_executing": false
    }
   },
   "outputs": [
    {
     "name": "stdout",
     "output_type": "stream",
     "text": [
      "[1.0, 0.5, 0.6666666666666666, 0.5, 0.4, 0.5, 0.42857142857142855, 0.375, 0.4444444444444444, 0.4, 0.36363636363636365, 0.3333333333333333, 0.38461538461538464, 0.42857142857142855, 0.4, 0.375, 0.35294117647058826, 0.3888888888888889, 0.3684210526315789]\n",
      "[1.0, 0.5, 0.3333333333333333, 0.5, 0.4, 0.3333333333333333, 0.42857142857142855, 0.375, 0.4444444444444444, 0.5, 0.45454545454545453, 0.4166666666666667, 0.38461538461538464, 0.42857142857142855, 0.4, 0.375, 0.35294117647058826, 0.3333333333333333, 0.3684210526315789]\n"
     ]
    },
    {
     "data": {
      "image/png": "[encoded data removed]",
      "text/plain": [
       "<Figure size 432x288 with 1 Axes>"
      ]
     },
     "metadata": {
      "needs_background": "light"
     },
     "output_type": "display_data"
    }
   ],
   "source": [
    "uu = list(map(int, '96 74 45 60  9 68 82  5 72 62 64 59 20 90 97 35 46 76 65 25'.split()))\n",
    "ii = list(map(int, '96 74 60 45 82  9 68  5 72 20 62 59 64 90 97 35 25 65 76  2'.split()))\n",
    "alex = loadAlex()\n",
    "plot(uu, ii, alex)\n"
   ]
  }
 ],
 "metadata": {
  "kernelspec": {
   "display_name": "Python 3",
   "language": "python",
   "name": "python3"
  },
  "language_info": {
   "codemirror_mode": {
    "name": "ipython",
    "version": 3
   },
   "file_extension": ".py",
   "mimetype": "text/x-python",
   "name": "python",
   "nbconvert_exporter": "python",
   "pygments_lexer": "ipython3",
   "version": "3.7.3"
  },
  "pycharm": {
   "stem_cell": {
    "cell_type": "raw",
    "metadata": {
     "collapsed": false
    },
    "source": []
   }
  }
 },
 "nbformat": 4,
 "nbformat_minor": 1
}
