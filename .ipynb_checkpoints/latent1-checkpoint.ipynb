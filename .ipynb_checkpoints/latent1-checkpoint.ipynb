{
 "cells": [
  {
   "cell_type": "code",
   "execution_count": null,
   "metadata": {
    "pycharm": {
     "name": "#%%\n"
    }
   },
   "outputs": [],
   "source": [
    "from __future__ import division\n",
    "import numpy\n",
    "import random\n",
    "import math\n",
    "import pylab\n",
    " "
   ]
  },
  {
   "cell_type": "code",
   "execution_count": 17,
   "metadata": {
    "collapsed": true,
    "pycharm": {
     "is_executing": false
    }
   },
   "outputs": [],
   "source": [
    "TRAIN_FILE = \"C:\\\\Users\\\\Bipin Kumar Mishr\\\\tapas data\\\\IIITG Lab assignments\\\\DATA ANALYTICS\\cs606-lab8\\\\cs606-lab8-reccomenders-tapasm2027-master\\\\recolab-data-master\\\\latent\\\\train.txt\"\n",
    "TEST_FILE = \"C:\\\\Users\\\\Bipin Kumar Mishr\\\\tapas data\\\\IIITG Lab assignments\\\\DATA ANALYTICS\\cs606-lab8\\\\cs606-lab8-reccomenders-tapasm2027-master\\\\recolab-data-master\\\\latent\\test.txt\""
   ]
  },
  {
   "cell_type": "code",
   "execution_count": 3,
   "metadata": {
    "collapsed": true,
    "pycharm": {
     "is_executing": false
    }
   },
   "outputs": [],
   "source": [
    "def get_matrix_dims(fileName):\n",
    "    maxUserId = 0\n",
    "    maxMovieId = 0\n",
    "    data = open(fileName,\"r\")\n",
    "    count = 0\n",
    "    for line in data:\n",
    "        count += 1\n",
    "        [userId, movieId, rating] = line.split(\"\\t\")\n",
    "        if int(movieId) > maxMovieId:\n",
    "            maxMovieId  = int(movieId)\n",
    "\n",
    "        if int(userId) > maxUserId: \n",
    "            maxUserId  = int(userId)\n",
    "    data.close()\n",
    "            \n",
    "    return (maxUserId, maxMovieId)"
   ]
  },
  {
   "cell_type": "code",
   "execution_count": 7,
   "metadata": {
    "collapsed": true,
    "pycharm": {
     "is_executing": false
    }
   },
   "outputs": [],
   "source": [
    "def create_random_matrix(rows, cols):\n",
    "    tmp = numpy.array([random.gauss(0, math.sqrt(5/cols)) for i in range(rows*cols)])\n",
    "    tmp.shape = (rows,cols)\n",
    "    return tmp"
   ]
  },
  {
   "cell_type": "code",
   "execution_count": 8,
   "metadata": {
    "collapsed": true,
    "pycharm": {
     "is_executing": false
    }
   },
   "outputs": [],
   "source": [
    "def total_error(P, Q, RFile, lam):\n",
    "    data = open(RFile,\"r\")\n",
    "    err = 0.0\n",
    "    sumPL2Norm = sum([numpy.dot(i,i) for i in P])\n",
    "    sumQL2Norm = sum([numpy.dot(i,i) for i in Q])\n",
    "    \n",
    "    for line in data:\n",
    "        [u, i, r] = line.split(\"\\t\")\n",
    "        u = int(u) - 1\n",
    "        i = int(i) - 1\n",
    "        r = float(r)\n",
    "        err = err + math.pow((r - numpy.dot(Q[i,:], P[u,:])),2)\n",
    "        \n",
    "    err = err + lam * (sumPL2Norm + sumQL2Norm)\n",
    "    \n",
    "    return err"
   ]
  },
  {
   "cell_type": "code",
   "execution_count": 9,
   "metadata": {
    "collapsed": true,
    "pycharm": {
     "is_executing": false
    }
   },
   "outputs": [],
   "source": [
    "def t_error(P, Q, RFile):\n",
    "    data = open(RFile,\"r\")\n",
    "    err = 0.0\n",
    "    \n",
    "    for line in data:\n",
    "        [u, i, r] = line.split(\"\\t\")\n",
    "        u = int(u) - 1\n",
    "        i = int(i) - 1\n",
    "        r = float(r)\n",
    "        err = err + math.pow((r - numpy.dot(Q[i,:], P[u,:])),2)\n",
    "    \n",
    "    return err"
   ]
  },
  {
   "cell_type": "code",
   "execution_count": 29,
   "metadata": {
    "collapsed": true,
    "pycharm": {
     "is_executing": false
    }
   },
   "outputs": [],
   "source": [
    "def stochastic_gradient_descent(P, Q, RFile, iter, lam, eta):\n",
    "    print (\"Running SGD for %s iterations.\" % iter)\n",
    "    boom = False\n",
    "    error = []\n",
    "    for j in range(iter):\n",
    "        if boom: break\n",
    "        print (\"Iteration :\",j, \"...\",)\n",
    "        data = open(RFile,\"r\")\n",
    "        for line in data: \n",
    "            # Get u , m , r\n",
    "            [u, i, r] = line.split(\"\\t\")\n",
    "            # Numpy indexes array from 0\n",
    "            u = int(u) - 1\n",
    "            i = int(i) - 1\n",
    "            r = float(r)\n",
    "\n",
    "            if math.isnan(numpy.dot(Q[i,:], P[u,:])):\n",
    "                errorTxt =  \"(Iteration %s :Nan at u: %s i: %s r: %s )\" \\\n",
    "                                % (j,u,i,r)\n",
    "                boom = True\n",
    "                raise Exception(errorTxt)\n",
    "              \n",
    "            # Calculate Error\n",
    "            e = 2*(r - numpy.dot(Q[i,:], P[u,:])) \n",
    "\n",
    "            #Update q\n",
    "            tmp_q = Q[i,:] + eta*(e*P[u,:] - 2*lam*Q[i,:])\n",
    "\n",
    "            #Update p\n",
    "            tmp_p = P[u,:] + eta*(e*Q[i,:] - 2*lam*P[u,:])\n",
    "       \n",
    "            Q[i,:] = tmp_q\n",
    "            P[u,:] = tmp_p\n",
    "           \n",
    "        data.close() \n",
    "        print (\"done.\",)\n",
    "        error.append(total_error(P,Q,RFile,lam))\n",
    "        print (\"Error:[ %s ]\" % (error[j]))\n",
    "    return P, Q, error"
   ]
  },
  {
   "cell_type": "code",
   "execution_count": 18,
   "metadata": {
    "collapsed": true,
    "pycharm": {
     "is_executing": false
    }
   },
   "outputs": [],
   "source": [
    "(u,m) = get_matrix_dims(TRAIN_FILE)"
   ]
  },
  {
   "cell_type": "code",
   "execution_count": 33,
   "metadata": {
    "pycharm": {
     "is_executing": false
    }
   },
   "outputs": [
    {
     "name": "stdout",
     "output_type": "stream",
     "text": [
      "Running SGD for 40 iterations.\n",
      "Iteration : 0 ...\n",
      "done.\n",
      "Error:[ 93008.64316041564 ]\n",
      "Iteration : 1 ...\n",
      "done.\n",
      "Error:[ 84231.80825645733 ]\n",
      "Iteration : 2 ...\n",
      "done.\n",
      "Error:[ 80073.04292636478 ]\n",
      "Iteration : 3 ...\n",
      "done.\n",
      "Error:[ 77047.34082213127 ]\n",
      "Iteration : 4 ...\n",
      "done.\n",
      "Error:[ 74637.10884817138 ]\n",
      "Iteration : 5 ...\n",
      "done.\n",
      "Error:[ 72701.44692383974 ]\n",
      "Iteration : 6 ...\n",
      "done.\n",
      "Error:[ 71141.98150812155 ]\n",
      "Iteration : 7 ...\n",
      "done.\n",
      "Error:[ 69875.8098405725 ]\n",
      "Iteration : 8 ...\n",
      "done.\n",
      "Error:[ 68837.45455420364 ]\n",
      "Iteration : 9 ...\n",
      "done.\n",
      "Error:[ 67977.01059261855 ]\n",
      "Iteration : 10 ...\n",
      "done.\n",
      "Error:[ 67256.72045121902 ]\n",
      "Iteration : 11 ...\n",
      "done.\n",
      "Error:[ 66647.83969549053 ]\n",
      "Iteration : 12 ...\n",
      "done.\n",
      "Error:[ 66128.28138987183 ]\n",
      "Iteration : 13 ...\n",
      "done.\n",
      "Error:[ 65680.95520778521 ]\n",
      "Iteration : 14 ...\n",
      "done.\n",
      "Error:[ 65292.580273307525 ]\n",
      "Iteration : 15 ...\n",
      "done.\n",
      "Error:[ 64952.79688362908 ]\n",
      "Iteration : 16 ...\n",
      "done.\n",
      "Error:[ 64653.478350087345 ]\n",
      "Iteration : 17 ...\n",
      "done.\n",
      "Error:[ 64388.1943892282 ]\n",
      "Iteration : 18 ...\n",
      "done.\n",
      "Error:[ 64151.7989936776 ]\n",
      "Iteration : 19 ...\n",
      "done.\n",
      "Error:[ 63940.12126965813 ]\n",
      "Iteration : 20 ...\n",
      "done.\n",
      "Error:[ 63749.7383360152 ]\n",
      "Iteration : 21 ...\n",
      "done.\n",
      "Error:[ 63577.8103940383 ]\n",
      "Iteration : 22 ...\n",
      "done.\n",
      "Error:[ 63421.96072044604 ]\n",
      "Iteration : 23 ...\n",
      "done.\n",
      "Error:[ 63280.186991185146 ]\n",
      "Iteration : 24 ...\n",
      "done.\n",
      "Error:[ 63150.79406814767 ]\n",
      "Iteration : 25 ...\n",
      "done.\n",
      "Error:[ 63032.34153837134 ]\n",
      "Iteration : 26 ...\n",
      "done.\n",
      "Error:[ 62923.60164975598 ]\n",
      "Iteration : 27 ...\n",
      "done.\n",
      "Error:[ 62823.524878798125 ]\n",
      "Iteration : 28 ...\n",
      "done.\n",
      "Error:[ 62731.21136053967 ]\n",
      "Iteration : 29 ...\n",
      "done.\n",
      "Error:[ 62645.8869963565 ]\n",
      "Iteration : 30 ...\n",
      "done.\n",
      "Error:[ 62566.88338968897 ]\n",
      "Iteration : 31 ...\n",
      "done.\n",
      "Error:[ 62493.62095526698 ]\n",
      "Iteration : 32 ...\n",
      "done.\n",
      "Error:[ 62425.59467423492 ]\n",
      "Iteration : 33 ...\n",
      "done.\n",
      "Error:[ 62362.36206325225 ]\n",
      "Iteration : 34 ...\n",
      "done.\n",
      "Error:[ 62303.53300656663 ]\n",
      "Iteration : 35 ...\n",
      "done.\n",
      "Error:[ 62248.76117085781 ]\n",
      "Iteration : 36 ...\n",
      "done.\n",
      "Error:[ 62197.73678231902 ]\n",
      "Iteration : 37 ...\n",
      "done.\n",
      "Error:[ 62150.180592109115 ]\n",
      "Iteration : 38 ...\n",
      "done.\n",
      "Error:[ 62105.838889125174 ]\n",
      "Iteration : 39 ...\n",
      "done.\n",
      "Error:[ 62064.4794388472 ]\n"
     ]
    }
   ],
   "source": [
    "k = 20\n",
    "iter = 40\n",
    "lam = 0.1\n",
    "\n",
    "eta = 0.03\n",
    "P = create_random_matrix(u, k)\n",
    "Q = create_random_matrix(m, k) \n",
    "P1, Q1, e1 = stochastic_gradient_descent(P,Q,TRAIN_FILE,iter,lam,eta)"
   ]
  },
  {
   "cell_type": "code",
   "execution_count": 34,
   "metadata": {
    "pycharm": {
     "is_executing": false
    }
   },
   "outputs": [
    {
     "data": {
      "text/plain": [
       "Text(0.5, 1.0, 'Gradient Descent : Error vs. Iterations')"
      ]
     },
     "execution_count": 34,
     "metadata": {},
     "output_type": "execute_result"
    },
    {
     "data": {
      "image/png": "[encoded data removed]",
      "text/plain": [
       "<Figure size 432x288 with 1 Axes>"
      ]
     },
     "metadata": {
      "needs_background": "light"
     },
     "output_type": "display_data"
    }
   ],
   "source": [
    "f0 = pylab.figure()\n",
    "p1 = f0.add_subplot(111)\n",
    "p1.plot([i for i in range(iter)],e1) \n",
    "p1.set_xlabel(\"Iteration\")\n",
    "p1.set_ylabel(\"Error\")\n",
    "p1.set_title(\"Gradient Descent : Error vs. Iterations\")"
   ]
  },
  {
   "cell_type": "markdown",
   "metadata": {
    "pycharm": {
     "name": "#%% md\n"
    }
   },
   "source": []
  }
 ],
 "metadata": {
  "kernelspec": {
   "display_name": "Python 3",
   "language": "python",
   "name": "python3"
  },
  "language_info": {
   "codemirror_mode": {
    "name": "ipython",
    "version": 3
   },
   "file_extension": ".py",
   "mimetype": "text/x-python",
   "name": "python",
   "nbconvert_exporter": "python",
   "pygments_lexer": "ipython3",
   "version": "3.7.3"
  },
  "pycharm": {
   "stem_cell": {
    "cell_type": "raw",
    "metadata": {
     "collapsed": false
    },
    "source": []
   }
  }
 },
 "nbformat": 4,
 "nbformat_minor": 1
}
